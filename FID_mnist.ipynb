{
  "nbformat": 4,
  "nbformat_minor": 0,
  "metadata": {
    "colab": {
      "name": "FID mnist",
      "provenance": [],
      "mount_file_id": "1aKs_ZTIPMXZ16O8ASbbJp7AFjxgjUR1C",
      "authorship_tag": "ABX9TyNtGMigG+B8hCfQrAyGoTst",
      "include_colab_link": true
    },
    "kernelspec": {
      "name": "python3",
      "display_name": "Python 3"
    },
    "language_info": {
      "name": "python"
    }
  },
  "cells": [
    {
      "cell_type": "markdown",
      "metadata": {
        "id": "view-in-github",
        "colab_type": "text"
      },
      "source": [
        "<a href=\"https://colab.research.google.com/github/johnsunbuns/GansResearch/blob/master/FID_mnist.ipynb\" target=\"_parent\"><img src=\"https://colab.research.google.com/assets/colab-badge.svg\" alt=\"Open In Colab\"/></a>"
      ]
    },
    {
      "cell_type": "markdown",
      "metadata": {
        "id": "dx6CE6b5qBtG"
      },
      "source": [
        "Importing Libraries"
      ]
    },
    {
      "cell_type": "code",
      "metadata": {
        "id": "o5eFQK8HuxDs"
      },
      "source": [
        "import torch\n",
        "from torch import nn\n",
        "from torchvision import transforms\n",
        "from torchvision.datasets import MNIST\n",
        "from torch.utils.data import DataLoader\n",
        "import torchvision.utils as vutils\n",
        "import torchvision.transforms.functional as F\n",
        "from PIL import ImageFilter\n",
        "from PIL import Image\n",
        "import matplotlib.pyplot as plt\n",
        "import numpy as np\n",
        "import os\n",
        "\n",
        "import math\n",
        "import torch.nn.functional as Fn\n",
        "from torch.autograd import Variable\n",
        "from torchvision.models import inception_v3\n",
        "import scipy"
      ],
      "execution_count": 1,
      "outputs": []
    },
    {
      "cell_type": "code",
      "metadata": {
        "id": "ZlGXGyvU-u07"
      },
      "source": [
        "ngpu = 1\n",
        "device = torch.device(\"cuda\" if (torch.cuda.is_available() and ngpu > 0) else \"cpu\")"
      ],
      "execution_count": 2,
      "outputs": []
    },
    {
      "cell_type": "markdown",
      "metadata": {
        "id": "7-J7eAlMM5ef"
      },
      "source": [
        "## Our trained control group DCGAN on mnist dataset"
      ]
    },
    {
      "cell_type": "markdown",
      "metadata": {
        "id": "q-M5G6GKMapp"
      },
      "source": [
        "Parameters for loading the control-group GAN model and its input data\n"
      ]
    },
    {
      "cell_type": "code",
      "metadata": {
        "id": "RYv2i6xNDPMl"
      },
      "source": [
        "# Number of channels in the training images. 3 for color images and 1 for grayscale images.\n",
        "nc = 1\n",
        "\n",
        "# Size of z latent vector (i.e. size of generator input)\n",
        "nz = 100\n",
        "\n",
        "# Size of feature maps in generator\n",
        "ngf = 32\n",
        "\n",
        "# Size of feature maps in discriminator\n",
        "ndf = 32\n",
        "\n",
        "# Constant noise vector. This is fine since we only do one forward pass of the network in this notebook.\n",
        "fixed_noise = torch.randn(64, nz, 1, 1, device=device)"
      ],
      "execution_count": 3,
      "outputs": []
    },
    {
      "cell_type": "markdown",
      "metadata": {
        "id": "6K14V4rSMfNr"
      },
      "source": [
        "Defining the control group GAN model architecture"
      ]
    },
    {
      "cell_type": "code",
      "metadata": {
        "id": "DhyJuhnoDSa9"
      },
      "source": [
        "class Generator(nn.Module):\n",
        "    def __init__(self):\n",
        "        super(Generator, self).__init__()\n",
        "        self.main = nn.Sequential(\n",
        "            nn.ConvTranspose2d(nz, ngf*4, 4, 1, 0, bias=False),\n",
        "            nn.BatchNorm2d(ngf*4),\n",
        "            nn.ReLU(True),\n",
        "  \n",
        "            nn.ConvTranspose2d(ngf*4, ngf*2, 3, 2, 1, bias=False),\n",
        "            nn.BatchNorm2d(ngf*2),\n",
        "            nn.ReLU(True),\n",
        "    \n",
        "            nn.ConvTranspose2d(ngf*2, ngf, 4, 2, 1, bias=False),\n",
        "            nn.BatchNorm2d(ngf),\n",
        "            nn.ReLU(True),\n",
        "    \n",
        "            nn.ConvTranspose2d(ngf, nc, 4, 2, 1, bias=False),\n",
        "            nn.Tanh()\n",
        "        )\n",
        "\n",
        "    def forward(self, input):\n",
        "        return self.main(input)"
      ],
      "execution_count": 4,
      "outputs": []
    },
    {
      "cell_type": "markdown",
      "metadata": {
        "id": "5JxOFX66Mh0l"
      },
      "source": [
        "Load the trained model parameters into a new instance of the generator class"
      ]
    },
    {
      "cell_type": "code",
      "metadata": {
        "colab": {
          "base_uri": "https://localhost:8080/"
        },
        "id": "Ipi_3-v1DWId",
        "outputId": "b286dd16-226c-45c7-e84a-4d70a512b9a4"
      },
      "source": [
        "model = Generator()\n",
        "os.chdir('/content/drive/My Drive/models/mnist_dcgan')\n",
        "model.load_state_dict(torch.load('model3.pth', map_location=device))"
      ],
      "execution_count": 5,
      "outputs": [
        {
          "output_type": "execute_result",
          "data": {
            "text/plain": [
              "<All keys matched successfully>"
            ]
          },
          "metadata": {
            "tags": []
          },
          "execution_count": 5
        }
      ]
    },
    {
      "cell_type": "markdown",
      "metadata": {
        "id": "2WHyRTKsNJe0"
      },
      "source": [
        "## Results of the control group GAN\n"
      ]
    },
    {
      "cell_type": "code",
      "metadata": {
        "colab": {
          "base_uri": "https://localhost:8080/",
          "height": 269
        },
        "id": "ITkFZrCzDZA5",
        "outputId": "a17e1901-015d-4e7b-a674-0edaa1d7156b"
      },
      "source": [
        "with torch.no_grad():\n",
        "    fake_image = model(fixed_noise).to(device)\n",
        "    plt.imshow(np.transpose(vutils.make_grid(fake_image, padding = 5, normalize=True), (1, 2, 0)))"
      ],
      "execution_count": 6,
      "outputs": [
        {
          "output_type": "display_data",
          "data": {
            "image/png": "[encoded data removed]",
            "text/plain": [
              "<Figure size 432x288 with 1 Axes>"
            ]
          },
          "metadata": {
            "tags": [],
            "needs_background": "light"
          }
        }
      ]
    },
    {
      "cell_type": "markdown",
      "metadata": {
        "id": "srcnLOrPNPpH"
      },
      "source": [
        "As you can see, our control group gan is able to produce images that look somewhat similar to human digits, with some of the generated images looking exactly like actual numbers. However there are some images that look not realistic at all, and the images are still only 28 x 28 and grayscale. With the stack gan we hope to achieve more realistic images on better resolutions and on rgb."
      ]
    },
    {
      "cell_type": "markdown",
      "metadata": {
        "id": "bp6s6xz30GRq"
      },
      "source": [
        "## FID score"
      ]
    },
    {
      "cell_type": "code",
      "metadata": {
        "id": "vkIM9ss7m-LJ"
      },
      "source": [
        "# inception v3 feature extractor\n",
        "class PartialInceptionNetwork(torch.nn.Module):\n",
        "    def __init__(self):\n",
        "        # trigger parent constructor\n",
        "        super(PartialInceptionNetwork, self).__init__()\n",
        "\n",
        "        # initialize pretrained network\n",
        "        self.inception_network = inception_v3(pretrained=True)\n",
        "\n",
        "        # register a forward hook \n",
        "        self.inception_network.Mixed_7c.register_forward_hook(self.output_hook)\n",
        "\n",
        "    # a hook allows you to give you the output of the internal block directly when you \n",
        "    # pass the inputs through the forward method. (Pytorch specific)\n",
        "    def output_hook(self, module, input, output):\n",
        "        # N x 2048 x 8 x 8\n",
        "        self.mixed_7c_output = output \n",
        "\n",
        "    def forward(self, x):\n",
        "        \"\"\"\n",
        "        Args:\n",
        "            x: shape (N, 3, 299, 299) \n",
        "        Returns:\n",
        "            inception activations: shape (N, 2048)\n",
        "        \"\"\"\n",
        "        assert x.shape[1:] == (3, 299, 299)\n",
        "\n",
        "        # Trigger output hook\n",
        "        self.inception_network(x)\n",
        "\n",
        "        # Output: N x 2048 x 8 x 8\n",
        "        activations = self.mixed_7c_output\n",
        "\n",
        "        # Output: N x 2048 x 1 x 1\n",
        "        activations = torch.nn.functional.adaptive_avg_pool2d(activations, (1, 1))\n",
        "\n",
        "        # Rectify dimension\n",
        "        activations = activations.view(x.shape[0], 2048)\n",
        "\n",
        "        return activations\n",
        "\n",
        "net = PartialInceptionNetwork()"
      ],
      "execution_count": 7,
      "outputs": []
    },
    {
      "cell_type": "code",
      "metadata": {
        "id": "0w7aJwBo0PV0"
      },
      "source": [
        "def fid_score(real_images, gen_images, batch_size):\n",
        "\n",
        "    # list of features\n",
        "    real_activations = []\n",
        "    gen_activations = []\n",
        "\n",
        "    # number of steps\n",
        "    num_steps = int(math.ceil(float(len(real_images)) / float(batch_size)))\n",
        "\n",
        "    # iterate over the images\n",
        "    for i in range(num_steps):\n",
        "\n",
        "        # mini-batch start and end index\n",
        "        start = i * batch_size\n",
        "        end = (i + 1) * batch_size\n",
        "\n",
        "        # mini-batch images\n",
        "        mini_batch_real = real_images[start:end]\n",
        "        mini_batch_gen = gen_images[start:end]\n",
        "\n",
        "        # mini-batch as Torch tensor with gradients\n",
        "        batch_real = Variable(mini_batch_real)\n",
        "        batch_gen = Variable(mini_batch_gen)\n",
        "\n",
        "        # apply a forward pass through inception network\n",
        "        features_real = net(batch_real)\n",
        "        features_gen = net(batch_gen)\n",
        "\n",
        "        # accumulate features\n",
        "        real_activations.append(features_real)\n",
        "        gen_activations.append(features_gen)\n",
        "\n",
        "    # stack tensor\n",
        "    features_real = torch.cat(real_activations, 0)\n",
        "    featrues_gen = torch.cat(gen_activiations, 0)\n",
        "\n",
        "    # tensor to numpy \n",
        "    xr = features_real.detach().numpy()\n",
        "    xg = features_gen.detach().numpy()\n",
        "\n",
        "    # calculate mean\n",
        "    u1 = np.mean(xr, axis=0)\n",
        "    u2 = np.mean(xg, axis=0)\n",
        "\n",
        "    # calculate variance\n",
        "    s1 = np.cov(xr, rowvar=False)\n",
        "    s2 = np.cov(xg, rowvar=False)\n",
        "\n",
        "    # difference squared\n",
        "    diff = u1 - u2\n",
        "    diff_squared = diff.dot(diff)\n",
        "\n",
        "    # trace covariance product\n",
        "    prod = s1.dot(s2)\n",
        "    sqrt_prod, _ = scipy.linalg.sqrtm(prod, disp=False)\n",
        "\n",
        "    # avoid imaginary numbers\n",
        "    if np.iscomplexobj(sqrt_prod):\n",
        "        sqrt_prod = sqrt_prod.real\n",
        "\n",
        "    prod_tr = np.trace(sqrt_prod)\n",
        "\n",
        "    # calculate FID\n",
        "    final_score = diff_squared + np.trace(s1) + np.trace(s2) - 2 * prod_tr\n",
        "\n",
        "    # return FID score\n",
        "    return final_score"
      ],
      "execution_count": 8,
      "outputs": []
    },
    {
      "cell_type": "code",
      "metadata": {
        "id": "62vYQmGT0wsX"
      },
      "source": [
        "# REAL images\n",
        "\n",
        "# load mini batch from real dataset\n",
        "trans = transforms.Compose([transforms.ToTensor(), transforms.Normalize((0.5,), (0.5,))])\n",
        "trainset = MNIST(root='./data/', train=True, download=True, transform=trans)\n",
        "trainloader = DataLoader(trainset, batch_size=64)\n",
        "images,_ = next(iter(trainloader))\n",
        "\n",
        "# reshape to 1x28x28\n",
        "images = images.view(-1, 1, 28, 28)\n",
        "\n",
        "# repeat gray channel to RGB\n",
        "images = images.repeat(1, 3, 1, 1)\n",
        "\n",
        "# resize the images to 3x299x299\n",
        "real_res_images = Fn.interpolate(images, size=(299,299))"
      ],
      "execution_count": 9,
      "outputs": []
    },
    {
      "cell_type": "code",
      "metadata": {
        "id": "ZIrYcCVF0g8L"
      },
      "source": [
        "BATCH_SIZE = 64\n",
        "# Generated images\n",
        "\n",
        "# Generated Images, same process\n",
        "images = model(fixed_noise)\n",
        "images = images.view(-1, 1, 28, 28)\n",
        "images = images.repeat(1, 3, 1, 1)\n",
        "gen_res_images = Fn.interpolate(images, size=(299, 299))\n",
        "\n",
        "# calculate inception score\n",
        "\n",
        "# FID score between two identical distrubtions should be 0\n",
        "same_score = fid_score(real_res_images, real_res_images, BATCH_SIZE)\n",
        "\n",
        "# FID score between the real and fake images should be positive\n",
        "different_score = fid_score(real_res_images, gen_real_iamges, BATCH_SIZE)\n",
        "\n",
        "print(f'identical images score: {same_score}')\n",
        "print(f'generated images score: {different_score}')"
      ],
      "execution_count": null,
      "outputs": []
    },
    {
      "cell_type": "code",
      "metadata": {
        "id": "9_hodDx11sWV"
      },
      "source": [
        ""
      ],
      "execution_count": null,
      "outputs": []
    }
  ]
}