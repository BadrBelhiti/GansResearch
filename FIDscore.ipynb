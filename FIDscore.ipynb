{
  "nbformat": 4,
  "nbformat_minor": 0,
  "metadata": {
    "colab": {
      "name": "FIDscore.ipynb",
      "provenance": [],
      "authorship_tag": "ABX9TyO8Yb4TuLxbZzJ22rr9iSWA",
      "include_colab_link": true
    },
    "kernelspec": {
      "name": "python3",
      "display_name": "Python 3"
    },
    "language_info": {
      "name": "python"
    }
  },
  "cells": [
    {
      "cell_type": "markdown",
      "metadata": {
        "id": "view-in-github",
        "colab_type": "text"
      },
      "source": [
        "<a href=\"https://colab.research.google.com/github/johnsunbuns/GansResearch/blob/master/FIDscore.ipynb\" target=\"_parent\"><img src=\"https://colab.research.google.com/assets/colab-badge.svg\" alt=\"Open In Colab\"/></a>"
      ]
    },
    {
      "cell_type": "code",
      "metadata": {
        "id": "1sq_-ksh8vaY"
      },
      "source": [
        "import math\n",
        "import torch\n",
        "import torch.nn.functional as F\n",
        "from torch.autograd import Variable\n",
        "from torchvision.models import inception_v3\n",
        "import scipy"
      ],
      "execution_count": null,
      "outputs": []
    },
    {
      "cell_type": "code",
      "metadata": {
        "id": "J7lYwx5C88AW"
      },
      "source": [
        "# inception v3 feature extractor\n",
        "class PartialInceptionNetwork(torch.nn.Module):\n",
        "    def __init__(self):\n",
        "        # trigger parent constructor\n",
        "        super(PartialInceptionNetwork, self).__init__()\n",
        "\n",
        "        # initialize pretrained network\n",
        "        self.inception_network = inception_v3(pretrained=True)\n",
        "\n",
        "        # register a forward hook \n",
        "        self.inception_network.Mixed_7c.register_forward_hook(self.output_hook)\n",
        "\n",
        "    # a hook allows you to give you the output of the internal block directly when you \n",
        "    # pass the inputs through the forward method. (Pytorch specific)\n",
        "    def output_hook(self, module, input, output):\n",
        "        # N x 2048 x 8 x 8\n",
        "        self.mixed_7c_output = output \n",
        "\n",
        "    def forward(self, x):\n",
        "        \"\"\"\n",
        "        Args:\n",
        "            x: shape (N, 3, 299, 299) \n",
        "        Returns:\n",
        "            inception activations: shape (N, 2048)\n",
        "        \"\"\"\n",
        "        assert x.shape[1:] == (3, 299, 299)\n",
        "\n",
        "        # Trigger output hook\n",
        "        self.inception_network(x)\n",
        "\n",
        "        # Output: N x 2048 x 8 x 8\n",
        "        activations = self.mixed_7c_output\n",
        "\n",
        "        # Output: N x 2048 x 1 x 1\n",
        "        activations = torch.nn.functional.adaptive_avg_pool2d(activations, (1, 1))\n",
        "\n",
        "        # Rectify dimension\n",
        "        activations = activations.view(x.shape[0], 2048)\n",
        "\n",
        "        return activations\n",
        "\n",
        "net = PartialInceptionNetwork()"
      ],
      "execution_count": null,
      "outputs": []
    },
    {
      "cell_type": "code",
      "metadata": {
        "id": "Eu6hadLP_bsy"
      },
      "source": [
        "def fid_score(real_images, gen_images, batch_size):\n",
        "\n",
        "    # list of features\n",
        "    real_activiations = []\n",
        "    gen_activations = []\n",
        "\n",
        "    # number of steps\n",
        "    num_steps = int(math.ceil(float(len(real_images)) / float(batch_size)))\n",
        "\n",
        "    # iterate over the images\n",
        "    for i in range(num_steps):\n",
        "\n",
        "        # mini-batch start and end index\n",
        "        start = i * batch_size \n",
        "        end = (i + 1) * batch_size\n",
        "\n",
        "        # mini-batch images\n",
        "        mini_batch_real = real_images[s:e]\n",
        "        mini_batch_gen = gen_images[s:e]\n",
        "\n",
        "        # mini-batch as Torch tensor with gradients\n",
        "        batch_real = Variable(mini_batch_real)\n",
        "        batch_gen = Variable(mini_batch_gen)\n",
        "\n",
        "        # apply a forward pass through inception network\n",
        "        features_real = net(batch_real)\n",
        "        features_gen = net(batch_gen)\n",
        "\n",
        "        # accumulate features\n",
        "        real_activations.append(features_real)\n",
        "        gen_activations.append(features_gen)\n",
        "\n",
        "    # stack tensor\n",
        "    features_real = torch.cat(real_activations, 0)\n",
        "    featrues_gen = torch.cat(gen_activiations, 0)\n",
        "\n",
        "    # tensor to numpy \n",
        "    xr = features_real.detach().numpy()\n",
        "    xg = features_gen.detach().numpy()\n",
        "\n",
        "    # calculate mean\n",
        "    u1 = np.mean(xr, axis=0)\n",
        "    u2 = np.mean(xg, axis=0)\n",
        "\n",
        "    # calculate variance\n",
        "    s1 = np.cov(xr, rowvar=False)\n",
        "    s2 = np.cov(xg, rowvar=False)\n",
        "\n",
        "    # difference squared\n",
        "    diff = u1 - u2\n",
        "    diff_squared = diff.dot(diff)\n",
        "\n",
        "    # trace covariance product\n",
        "    prod = s1.dot(s2)\n",
        "    sqrt_prod, _ = scipy.linalg.sqrtm(prod, disp=False)\n",
        "\n",
        "    # avoid imaginary numbers\n",
        "    if np.iscomplexobj(sqrt_prod):\n",
        "        sqrt_prod = sqrt_prod.real\n",
        "\n",
        "    prod_tr = np.trace(sqrt_prod)\n",
        "\n",
        "    # calculate FID\n",
        "    final_score = diff_squared + np.trace(s1) + np.trace(s2) - 2 * prod_tr\n",
        "\n",
        "    # return FID score\n",
        "    return final_score"
      ],
      "execution_count": null,
      "outputs": []
    },
    {
      "cell_type": "code",
      "metadata": {
        "colab": {
          "base_uri": "https://localhost:8080/",
          "height": 240
        },
        "id": "3X7NQBBhCjsu",
        "outputId": "e0e8d5f6-5c54-485c-f7db-9f57b37e38f8"
      },
      "source": [
        "# test FID score\n",
        "\n",
        "# REAL images\n",
        "\n",
        "# load mini batch from real dataset\n",
        "images,_ = next(iter(train_loader))\n",
        "\n",
        "# reshape to 1x28x28\n",
        "images = images.view(-1, 1, 28, 28)\n",
        "\n",
        "# repeat gray channel to RGB\n",
        "images = images.repeat(1, 3, 1, 1)\n",
        "\n",
        "# resize the images to 3x299x299\n",
        "real_res_images = F.interpolate(images, size=(299,299))\n",
        "\n",
        "# Generated Images, same process\n",
        "images = generato(test_set)\n",
        "images = images.view(-1, 1, 28, 28)\n",
        "images = images.repeat(1, 3, 1, 1)\n",
        "gen_res_images = F.interpolate(images, size=(299, 299))\n",
        "\n",
        "# calculate inception score\n",
        "score = fid_score(real_res_images, gen_res_images, batch_size)\n",
        "score"
      ],
      "execution_count": null,
      "outputs": [
        {
          "output_type": "error",
          "ename": "NameError",
          "evalue": "ignored",
          "traceback": [
            "\u001b[0;31m---------------------------------------------------------------------------\u001b[0m",
            "\u001b[0;31mNameError\u001b[0m                                 Traceback (most recent call last)",
            "\u001b[0;32m<ipython-input-7-9e193992a102>\u001b[0m in \u001b[0;36m<module>\u001b[0;34m()\u001b[0m\n\u001b[1;32m      4\u001b[0m \u001b[0;34m\u001b[0m\u001b[0m\n\u001b[1;32m      5\u001b[0m \u001b[0;31m# laod mini batch from dataset\u001b[0m\u001b[0;34m\u001b[0m\u001b[0;34m\u001b[0m\u001b[0;34m\u001b[0m\u001b[0m\n\u001b[0;32m----> 6\u001b[0;31m \u001b[0mimages\u001b[0m\u001b[0;34m,\u001b[0m\u001b[0m_\u001b[0m \u001b[0;34m=\u001b[0m \u001b[0mnext\u001b[0m\u001b[0;34m(\u001b[0m\u001b[0miter\u001b[0m\u001b[0;34m(\u001b[0m\u001b[0mtrain_loader\u001b[0m\u001b[0;34m)\u001b[0m\u001b[0;34m)\u001b[0m\u001b[0;34m\u001b[0m\u001b[0;34m\u001b[0m\u001b[0m\n\u001b[0m\u001b[1;32m      7\u001b[0m \u001b[0;34m\u001b[0m\u001b[0m\n\u001b[1;32m      8\u001b[0m \u001b[0;31m# reshape to 1x28x28\u001b[0m\u001b[0;34m\u001b[0m\u001b[0;34m\u001b[0m\u001b[0;34m\u001b[0m\u001b[0m\n",
            "\u001b[0;31mNameError\u001b[0m: name 'train_loader' is not defined"
          ]
        }
      ]
    },
    {
      "cell_type": "code",
      "metadata": {
        "id": "JLurNHIMEHCG"
      },
      "source": [
        ""
      ],
      "execution_count": null,
      "outputs": []
    }
  ]
}