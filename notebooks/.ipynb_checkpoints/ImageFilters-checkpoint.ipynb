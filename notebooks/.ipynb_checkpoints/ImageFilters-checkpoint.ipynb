{
 "cells": [
  {
   "cell_type": "code",
   "execution_count": 44,
   "metadata": {},
   "outputs": [],
   "source": [
    "import os\n",
    "import numpy as np\n",
    "import matplotlib.pyplot as plt\n",
    "from PIL import Image\n",
    "from skimage import filters"
   ]
  },
  {
   "cell_type": "markdown",
   "metadata": {},
   "source": [
    "Define data directory. In this case, we use CelebA."
   ]
  },
  {
   "cell_type": "code",
   "execution_count": 45,
   "metadata": {},
   "outputs": [],
   "source": [
    "input_directory = '../data/CelebA/celeba/'\n",
    "output_directory = '../data/CelebA/edges_grayscale_rgb/'"
   ]
  },
  {
   "cell_type": "markdown",
   "metadata": {},
   "source": [
    "Initialize directory to load images from and create output directory if it does not exist already"
   ]
  },
  {
   "cell_type": "code",
   "execution_count": 46,
   "metadata": {},
   "outputs": [],
   "source": [
    "celeba = os.listdir(os.fsencode(input_directory))\n",
    "\n",
    "if not os.path.exists(output_directory):\n",
    "    os.mkdir(output_directory)"
   ]
  },
  {
   "cell_type": "markdown",
   "metadata": {},
   "source": [
    "Define method that takes in the path to an image file and builds the RGB->grayscale->edges deconstruction"
   ]
  },
  {
   "cell_type": "code",
   "execution_count": 47,
   "metadata": {},
   "outputs": [],
   "source": [
    "def edges_grayscale_rgb(file_path):\n",
    "    # Read in image as RGB array\n",
    "    rgb = np.array(Image.open(file_path))\n",
    "    \n",
    "    # Convery RGB array into grayscale array\n",
    "    grayscale = rgb[:,:,0]\n",
    "    \n",
    "    # Extract edges from grayscale array\n",
    "    edges = filters.sobel(grayscale)\n",
    "    \n",
    "    return (edges, grayscale, rgb)"
   ]
  },
  {
   "cell_type": "markdown",
   "metadata": {},
   "source": [
    "Method that visualizes RGB->grayscale->edges deconstruction"
   ]
  },
  {
   "cell_type": "code",
   "execution_count": 48,
   "metadata": {},
   "outputs": [],
   "source": [
    "def show_rgb_to_edges(edges, grayscale, rgb):\n",
    "    plt.imshow(edges, cmap='gray')\n",
    "    plt.show()\n",
    "    plt.imshow(grayscale, cmap='gray')\n",
    "    plt.show()\n",
    "    plt.imshow(rgb)\n",
    "    plt.show()"
   ]
  },
  {
   "cell_type": "markdown",
   "metadata": {},
   "source": [
    "Iterate through every file in the directory and perform convolution then save in respective folder"
   ]
  },
  {
   "cell_type": "code",
   "execution_count": 51,
   "metadata": {},
   "outputs": [],
   "source": [
    "# Number of samples to process\n",
    "image_count = 0\n",
    "\n",
    "for file in celeba:\n",
    "    filename = os.fsdecode(file)\n",
    "    output = output_directory + filename[:-4]\n",
    "    \n",
    "    # Actual deconstruction of image\n",
    "    edges, grayscale, rgb = edges_grayscale_rgb(input_directory + filename)\n",
    "    \n",
    "    # Uncomment line below to visualize deconstruction of image\n",
    "    # show_rgb_to_edges(edges, grayscale, rgb)\n",
    "    \n",
    "    # Get output directory for single sample ready\n",
    "    if not os.path.exists(output):\n",
    "        os.mkdir(output)\n",
    "    \n",
    "    # Save all stages of deconstruction into sample's output directory\n",
    "    plt.imsave(output + '/edges.jpg', edges, cmap='gray')\n",
    "    plt.imsave(output + '/grayscale.jpg', grayscale, cmap='gray')\n",
    "    plt.imsave(output + '/rgb.jpg', rgb)\n",
    "    \n",
    "    image_count += 1\n",
    "    if image_count == 2:\n",
    "        break;"
   ]
  }
 ],
 "metadata": {
  "kernelspec": {
   "display_name": "Python 3",
   "language": "python",
   "name": "python3"
  },
  "language_info": {
   "codemirror_mode": {
    "name": "ipython",
    "version": 3
   },
   "file_extension": ".py",
   "mimetype": "text/x-python",
   "name": "python",
   "nbconvert_exporter": "python",
   "pygments_lexer": "ipython3",
   "version": "3.8.3"
  }
 },
 "nbformat": 4,
 "nbformat_minor": 4
}
